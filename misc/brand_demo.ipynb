{
 "cells": [
  {
   "cell_type": "markdown",
   "metadata": {},
   "source": [
    "Choosing a good name for companies, products, or projects is crucial because it forms the foundation of your brand identity, making a lasting first impression on your audience. A well-chosen name can communicate your values, evoke the right emotions, and set you apart from competitors. It needs to be memorable, easy to pronounce, and relevant to your target market. Moreover, ensuring that the name is available across key domains and platforms avoids legal issues, protects your brand, and maintains a consistent presence online. In short, a strong name is vital for building recognition, trust, and loyalty.\n",
    "\n",
    "Finding a good name is challenging because it must balance a range of constraints and objectives. It may need to reflect the values, sentiment, or aspirations of a targeted audience, while avoiding associations that might alienate others. Even when choosing a name with semantic flexibility—keeping it vague to allow the brand to evolve—you still want it to be pronounceable, visually appealing, and memorable. On top of these considerations, the name often needs to be available as a domain, social media handle, or product name, which can be frustrating when your ideal choice is already taken. These constraints can slow down the creative process, leading to compromises and sometimes resulting in names that lack inspiration or are later regretted.\n",
    "\n",
    "The brand package is designed to streamline the often difficult and time-consuming process of naming by automating both name generation and availability checking. With its name generation feature, the package helps users come up with creative, relevant, and flexible names that align with their brand's goals and target audience. It offers options to create names that are memorable, pronounceable, and visually appealing, while also allowing for semantic flexibility.\n",
    "\n",
    "In addition to generating names, the brand package integrates powerful tools for checking name availability across important platforms such as domain names, social media handles, and other key online spaces. This automated checking saves users the hassle of manually searching for name availability on each platform, ensuring that the chosen name is free to use without conflicts. By addressing both the creative and logistical challenges of naming, the brand package accelerates the process and helps avoid the pitfalls of last-minute compromises, ultimately leading to stronger, more meaningful brand identities."
   ]
  },
  {
   "cell_type": "markdown",
   "metadata": {},
   "source": [
    "# Check availability"
   ]
  },
  {
   "cell_type": "code",
   "execution_count": 3,
   "metadata": {},
   "outputs": [
    {
     "data": {
      "text/plain": [
       "['domain_name', 'github_org', 'npm_package', 'pypi_project', 'youtube_channel']"
      ]
     },
     "execution_count": 3,
     "metadata": {},
     "output_type": "execute_result"
    }
   ],
   "source": [
    "from brand import is_available_as\n",
    "\n",
    "# check out the available categories you can check (this will evolve over time)\n",
    "list(is_available_as)\n"
   ]
  },
  {
   "cell_type": "code",
   "execution_count": 4,
   "metadata": {},
   "outputs": [
    {
     "data": {
      "text/plain": [
       "False"
      ]
     },
     "execution_count": 4,
     "metadata": {},
     "output_type": "execute_result"
    }
   ],
   "source": [
    "is_available_as.github_org('thorwhalen')"
   ]
  },
  {
   "cell_type": "code",
   "execution_count": 5,
   "metadata": {},
   "outputs": [
    {
     "data": {
      "text/plain": [
       "True"
      ]
     },
     "execution_count": 5,
     "metadata": {},
     "output_type": "execute_result"
    }
   ],
   "source": [
    "is_available_as.github_org('__hopefully_this_one_is_available__')"
   ]
  },
  {
   "cell_type": "code",
   "execution_count": 6,
   "metadata": {},
   "outputs": [
    {
     "data": {
      "text/plain": [
       "False"
      ]
     },
     "execution_count": 6,
     "metadata": {},
     "output_type": "execute_result"
    }
   ],
   "source": [
    "is_available_as.pypi_project('numpy')"
   ]
  },
  {
   "cell_type": "code",
   "execution_count": 8,
   "metadata": {},
   "outputs": [
    {
     "data": {
      "text/plain": [
       "True"
      ]
     },
     "execution_count": 8,
     "metadata": {},
     "output_type": "execute_result"
    }
   ],
   "source": [
    "is_available_as.pypi_project('__hopefully_this_one_is_available__')"
   ]
  },
  {
   "cell_type": "markdown",
   "metadata": {},
   "source": [
    "# Generate names"
   ]
  },
  {
   "cell_type": "markdown",
   "metadata": {},
   "source": [
    "## Generate english words"
   ]
  },
  {
   "cell_type": "markdown",
   "metadata": {},
   "source": [
    "You can pre-filter the words using regular expressions. \n",
    "\n",
    "Note that the dictionary is quite large; larger than the usual \"scrabble-allowed\" \n",
    "dictionaries.\n",
    "\n",
    "Note that you often want to post-filter as well. \n",
    "You can do so simply by using the `filter` function."
   ]
  },
  {
   "cell_type": "code",
   "execution_count": 4,
   "metadata": {},
   "outputs": [],
   "source": [
    "from brand import english_words_gen"
   ]
  },
  {
   "cell_type": "code",
   "execution_count": 8,
   "metadata": {},
   "outputs": [
    {
     "data": {
      "text/plain": [
       "['zr', 'zn', 'zb', 'zu']"
      ]
     },
     "execution_count": 8,
     "metadata": {},
     "output_type": "execute_result"
    }
   ],
   "source": [
    "# all two letter words starting with 'z'\n",
    "list(english_words_gen('^z.$'))"
   ]
  },
  {
   "cell_type": "code",
   "execution_count": 14,
   "metadata": {},
   "outputs": [
    {
     "data": {
      "text/plain": [
       "['apex',\n",
       " 'amex',\n",
       " 'anil',\n",
       " 'abel',\n",
       " 'axil',\n",
       " 'agal',\n",
       " 'awol',\n",
       " 'ajax',\n",
       " 'aril',\n",
       " 'anal']"
      ]
     },
     "execution_count": 14,
     "metadata": {},
     "output_type": "execute_result"
    }
   ],
   "source": [
    "vowel = '[aeiou]'\n",
    "list(english_words_gen(f'^a.{vowel}[lxz]$'))"
   ]
  },
  {
   "cell_type": "markdown",
   "metadata": {},
   "source": [
    "## Ask chatGPT"
   ]
  },
  {
   "cell_type": "markdown",
   "metadata": {},
   "source": [
    "If you have `oa` installed and an OpenAI API token, you can use `ask_ai_to_generate_names` to generate names for a given context. "
   ]
  },
  {
   "cell_type": "code",
   "execution_count": 1,
   "metadata": {},
   "outputs": [
    {
     "data": {
      "text/plain": [
       "['FinAI',\n",
       " 'MoneyMind',\n",
       " 'InvestBotics',\n",
       " 'FiscalAI',\n",
       " 'WealthEngine',\n",
       " 'AIFinanceHub',\n",
       " 'EconAIOpti',\n",
       " 'CashCompanionAI',\n",
       " 'MoneyMatrixAI',\n",
       " 'AiFinServ',\n",
       " 'InvestIntelli',\n",
       " 'AIForWealth',\n",
       " 'SmartFinanceAI',\n",
       " 'AIFinTech',\n",
       " 'RichmindAI',\n",
       " 'EconoWise',\n",
       " 'FlipTheCoinAI',\n",
       " 'AIFinAdvisors',\n",
       " 'FundingFutureAI',\n",
       " 'CashBrainAI',\n",
       " 'FinanceAIForge',\n",
       " 'AiStockSense',\n",
       " 'MoneyNerdAI',\n",
       " 'SecureWealthAI',\n",
       " 'CapitalBrainAI',\n",
       " 'AIFinOpti',\n",
       " 'ProfitPathwayAI',\n",
       " 'AIyieldGrow',\n",
       " 'FinanceComradeAI',\n",
       " 'WallStWizardAI']"
      ]
     },
     "execution_count": 1,
     "metadata": {},
     "output_type": "execute_result"
    }
   ],
   "source": [
    "from brand import ask_ai_to_generate_names\n",
    "\n",
    "ask_ai_to_generate_names(\n",
    "    'For a company that will develop AI-based tools for the financial industry'\n",
    ")"
   ]
  },
  {
   "cell_type": "code",
   "execution_count": null,
   "metadata": {},
   "outputs": [],
   "source": []
  }
 ],
 "metadata": {
  "kernelspec": {
   "display_name": "p10",
   "language": "python",
   "name": "python3"
  },
  "language_info": {
   "codemirror_mode": {
    "name": "ipython",
    "version": 3
   },
   "file_extension": ".py",
   "mimetype": "text/x-python",
   "name": "python",
   "nbconvert_exporter": "python",
   "pygments_lexer": "ipython3",
   "version": "3.10.13"
  }
 },
 "nbformat": 4,
 "nbformat_minor": 2
}
